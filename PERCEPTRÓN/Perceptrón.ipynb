{
  "nbformat": 4,
  "nbformat_minor": 0,
  "metadata": {
    "colab": {
      "provenance": []
    },
    "kernelspec": {
      "name": "python3",
      "display_name": "Python 3"
    },
    "language_info": {
      "name": "python"
    }
  },
  "cells": [
    {
      "cell_type": "markdown",
      "source": [
        "MAROCHO CAPA GABRIELA IRMA\n",
        "\n"
      ],
      "metadata": {
        "id": "DRm5CybyNSq4"
      }
    },
    {
      "cell_type": "code",
      "execution_count": null,
      "metadata": {
        "id": "0SwmQc1xJEK-"
      },
      "outputs": [],
      "source": [
        "# Paso 1: Importar librerías\n",
        "import numpy as np"
      ]
    },
    {
      "cell_type": "code",
      "source": [
        "# Paso 2: Definir la función de activación ReLU\n",
        "def relu(x):\n",
        "    return max(0, x)\n"
      ],
      "metadata": {
        "id": "h927ErNIJVd9"
      },
      "execution_count": null,
      "outputs": []
    },
    {
      "cell_type": "code",
      "source": [
        "class Perceptron:\n",
        "    def __init__(self, input_size, learning_rate=0.01, epochs=100):\n",
        "        # Inicializar pesos pequeños aleatorios y el umbral\n",
        "        self.weights = np.random.uniform(-1, 1, input_size)\n",
        "        self.bias = np.random.uniform(-1, 1)  # Umbral inicial\n",
        "        self.learning_rate = learning_rate\n",
        "        self.epochs = epochs\n",
        "\n",
        "    def predict(self, X):\n",
        "        # Calcular la salida Y usando los pesos y el umbral con ReLU\n",
        "        linear_output = np.dot(X, self.weights) - self.bias\n",
        "        return relu(linear_output)\n",
        "\n",
        "    def predict_binary(self, X):\n",
        "        # Predicción binaria utilizando un umbral de 0.5\n",
        "        y = self.predict(X)\n",
        "        return 1 if y >= 0.5 else 0\n",
        "\n",
        "    def train(self, X, D):\n",
        "        for epoch in range(self.epochs):\n",
        "            print(f\"Epoch {epoch+1}/{self.epochs}\")\n",
        "            for xi, di in zip(X, D):\n",
        "                # Calcular salida predicha\n",
        "                y = self.predict(xi)\n",
        "                # Calcular el error\n",
        "                error = di - y\n",
        "                # Actualizar los pesos y el umbral\n",
        "                self.weights += self.learning_rate * error * xi\n",
        "                self.bias -= self.learning_rate * error\n",
        "\n",
        "                print(f\"Entrada: {xi}, Predicción continua: {y:.4f}, Deseada: {di}, Error: {error:.4f}\")\n"
      ],
      "metadata": {
        "id": "yfNUwXfbJXuE"
      },
      "execution_count": null,
      "outputs": []
    },
    {
      "cell_type": "code",
      "source": [
        "# Paso 4: Preparar los datos de entrenamiento (Ejemplo: AND lógico)\n",
        "X = np.array([\n",
        "    [0, 0],\n",
        "    [0, 1],\n",
        "    [1, 0],\n",
        "    [1, 1]\n",
        "])\n",
        "D = np.array([0, 0, 0, 1])  # Salidas deseadas para el AND\n"
      ],
      "metadata": {
        "id": "xRP18bE2JZmz"
      },
      "execution_count": null,
      "outputs": []
    },
    {
      "cell_type": "code",
      "source": [
        "# Paso 5: Crear y entrenar el modelo\n",
        "perceptron = Perceptron(input_size=2, learning_rate=0.1, epochs=10)\n",
        "perceptron.train(X, D)\n"
      ],
      "metadata": {
        "colab": {
          "base_uri": "https://localhost:8080/"
        },
        "id": "pkvaos_gJa-j",
        "outputId": "9e28e37c-57af-483a-a33d-c73296147d5b"
      },
      "execution_count": null,
      "outputs": [
        {
          "output_type": "stream",
          "name": "stdout",
          "text": [
            "Epoch 1/10\n",
            "Entrada: [0 0], Predicción continua: 0.1128, Deseada: 0, Error: -0.1128\n",
            "Entrada: [0 1], Predicción continua: 0.2378, Deseada: 0, Error: -0.2378\n",
            "Entrada: [1 0], Predicción continua: 0.0000, Deseada: 0, Error: 0.0000\n",
            "Entrada: [1 1], Predicción continua: 0.0000, Deseada: 1, Error: 1.0000\n",
            "Epoch 2/10\n",
            "Entrada: [0 0], Predicción continua: 0.1777, Deseada: 0, Error: -0.1777\n",
            "Entrada: [0 1], Predicción continua: 0.3725, Deseada: 0, Error: -0.3725\n",
            "Entrada: [1 0], Predicción continua: 0.0000, Deseada: 0, Error: 0.0000\n",
            "Entrada: [1 1], Predicción continua: 0.0000, Deseada: 1, Error: 1.0000\n",
            "Epoch 3/10\n",
            "Entrada: [0 0], Predicción continua: 0.2227, Deseada: 0, Error: -0.2227\n",
            "Entrada: [0 1], Predicción continua: 0.4757, Deseada: 0, Error: -0.4757\n",
            "Entrada: [1 0], Predicción continua: 0.0000, Deseada: 0, Error: 0.0000\n",
            "Entrada: [1 1], Predicción continua: 0.0000, Deseada: 1, Error: 1.0000\n",
            "Epoch 4/10\n",
            "Entrada: [0 0], Predicción continua: 0.2528, Deseada: 0, Error: -0.2528\n",
            "Entrada: [0 1], Predicción continua: 0.5553, Deseada: 0, Error: -0.5553\n",
            "Entrada: [1 0], Predicción continua: 0.0000, Deseada: 0, Error: 0.0000\n",
            "Entrada: [1 1], Predicción continua: 0.0000, Deseada: 1, Error: 1.0000\n",
            "Epoch 5/10\n",
            "Entrada: [0 0], Predicción continua: 0.2720, Deseada: 0, Error: -0.2720\n",
            "Entrada: [0 1], Predicción continua: 0.6170, Deseada: 0, Error: -0.6170\n",
            "Entrada: [1 0], Predicción continua: 0.0000, Deseada: 0, Error: 0.0000\n",
            "Entrada: [1 1], Predicción continua: 0.0000, Deseada: 1, Error: 1.0000\n",
            "Epoch 6/10\n",
            "Entrada: [0 0], Predicción continua: 0.2831, Deseada: 0, Error: -0.2831\n",
            "Entrada: [0 1], Predicción continua: 0.6653, Deseada: 0, Error: -0.6653\n",
            "Entrada: [1 0], Predicción continua: 0.0000, Deseada: 0, Error: 0.0000\n",
            "Entrada: [1 1], Predicción continua: 0.0638, Deseada: 1, Error: 0.9362\n",
            "Epoch 7/10\n",
            "Entrada: [0 0], Predicción continua: 0.2819, Deseada: 0, Error: -0.2819\n",
            "Entrada: [0 1], Predicción continua: 0.6913, Deseada: 0, Error: -0.6913\n",
            "Entrada: [1 0], Predicción continua: 0.0000, Deseada: 0, Error: 0.0000\n",
            "Entrada: [1 1], Predicción continua: 0.1782, Deseada: 1, Error: 0.8218\n",
            "Epoch 8/10\n",
            "Entrada: [0 0], Predicción continua: 0.2668, Deseada: 0, Error: -0.2668\n",
            "Entrada: [0 1], Predicción continua: 0.6907, Deseada: 0, Error: -0.6907\n",
            "Entrada: [1 0], Predicción continua: 0.0000, Deseada: 0, Error: 0.0000\n",
            "Entrada: [1 1], Predicción continua: 0.2599, Deseada: 1, Error: 0.7401\n",
            "Epoch 9/10\n",
            "Entrada: [0 0], Predicción continua: 0.2450, Deseada: 0, Error: -0.2450\n",
            "Entrada: [0 1], Predicción continua: 0.6761, Deseada: 0, Error: -0.6761\n",
            "Entrada: [1 0], Predicción continua: 0.0000, Deseada: 0, Error: 0.0000\n",
            "Entrada: [1 1], Predicción continua: 0.3222, Deseada: 1, Error: 0.6778\n",
            "Epoch 10/10\n",
            "Entrada: [0 0], Predicción continua: 0.2207, Deseada: 0, Error: -0.2207\n",
            "Entrada: [0 1], Predicción continua: 0.6544, Deseada: 0, Error: -0.6544\n",
            "Entrada: [1 0], Predicción continua: 0.0000, Deseada: 0, Error: 0.0000\n",
            "Entrada: [1 1], Predicción continua: 0.3726, Deseada: 1, Error: 0.6274\n"
          ]
        }
      ]
    },
    {
      "cell_type": "code",
      "source": [
        "print(\"\\nPredicciones finales (binarias):\")\n",
        "for xi in X:\n",
        "    y_continua = perceptron.predict(xi)\n",
        "    y_binaria = perceptron.predict_binary(xi)\n",
        "    print(f\"Entrada: {xi}, Predicción continua: {y_continua:.4f}, Predicción binaria: {y_binaria}\")"
      ],
      "metadata": {
        "colab": {
          "base_uri": "https://localhost:8080/"
        },
        "id": "zX4nHRU-Jd59",
        "outputId": "20cf8f35-20b9-44d3-ac13-c229003e6fa4"
      },
      "execution_count": null,
      "outputs": [
        {
          "output_type": "stream",
          "name": "stdout",
          "text": [
            "\n",
            "Predicciones finales (binarias):\n",
            "Entrada: [0 0], Predicción continua: 0.1959, Predicción binaria: 0\n",
            "Entrada: [0 1], Predicción continua: 0.6490, Predicción binaria: 1\n",
            "Entrada: [1 0], Predicción continua: 0.1078, Predicción binaria: 0\n",
            "Entrada: [1 1], Predicción continua: 0.5608, Predicción binaria: 1\n"
          ]
        }
      ]
    }
  ]
}